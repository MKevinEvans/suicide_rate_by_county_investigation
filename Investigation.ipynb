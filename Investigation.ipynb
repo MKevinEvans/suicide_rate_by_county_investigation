{
 "cells": [
  {
   "cell_type": "code",
   "execution_count": 1,
   "metadata": {},
   "outputs": [],
   "source": [
    "import pandas as pd\n",
    "import numpy as np\n",
    "import scipy.stats as stats\n",
    "from functools import reduce\n",
    "from matplotlib import pyplot as plt\n",
    "from sklearn import linear_model\n",
    "from sklearn.linear_model import LinearRegression\n",
    "from sklearn.model_selection import train_test_split\n",
    "from sklearn import metrics\n",
    "from sklearn.preprocessing import PolynomialFeatures\n",
    "from sklearn.preprocessing import StandardScaler\n",
    "import seaborn as sns\n",
    "sns.set(style=\"whitegrid\")"
   ]
  },
  {
   "cell_type": "markdown",
   "metadata": {},
   "source": [
    "#### Read in suicide data"
   ]
  },
  {
   "cell_type": "code",
   "execution_count": 2,
   "metadata": {},
   "outputs": [],
   "source": [
    "deaths = pd.read_csv('suicides_2018.txt', delimiter='\\t')"
   ]
  },
  {
   "cell_type": "markdown",
   "metadata": {},
   "source": [
    "#### group by county code and sum deaths that used different codes"
   ]
  },
  {
   "cell_type": "code",
   "execution_count": 3,
   "metadata": {},
   "outputs": [],
   "source": [
    "county_code_total_suicides = deaths.groupby(['County Code'])['Deaths'].sum().reset_index()"
   ]
  },
  {
   "cell_type": "code",
   "execution_count": 4,
   "metadata": {},
   "outputs": [
    {
     "data": {
      "text/html": [
       "<div>\n",
       "<style scoped>\n",
       "    .dataframe tbody tr th:only-of-type {\n",
       "        vertical-align: middle;\n",
       "    }\n",
       "\n",
       "    .dataframe tbody tr th {\n",
       "        vertical-align: top;\n",
       "    }\n",
       "\n",
       "    .dataframe thead th {\n",
       "        text-align: right;\n",
       "    }\n",
       "</style>\n",
       "<table border=\"1\" class=\"dataframe\">\n",
       "  <thead>\n",
       "    <tr style=\"text-align: right;\">\n",
       "      <th></th>\n",
       "      <th>County Code</th>\n",
       "      <th>Deaths</th>\n",
       "    </tr>\n",
       "  </thead>\n",
       "  <tbody>\n",
       "    <tr>\n",
       "      <td>0</td>\n",
       "      <td>1003.0</td>\n",
       "      <td>33.0</td>\n",
       "    </tr>\n",
       "    <tr>\n",
       "      <td>1</td>\n",
       "      <td>1015.0</td>\n",
       "      <td>19.0</td>\n",
       "    </tr>\n",
       "    <tr>\n",
       "      <td>2</td>\n",
       "      <td>1033.0</td>\n",
       "      <td>10.0</td>\n",
       "    </tr>\n",
       "    <tr>\n",
       "      <td>3</td>\n",
       "      <td>1045.0</td>\n",
       "      <td>10.0</td>\n",
       "    </tr>\n",
       "    <tr>\n",
       "      <td>4</td>\n",
       "      <td>1049.0</td>\n",
       "      <td>10.0</td>\n",
       "    </tr>\n",
       "  </tbody>\n",
       "</table>\n",
       "</div>"
      ],
      "text/plain": [
       "   County Code  Deaths\n",
       "0       1003.0    33.0\n",
       "1       1015.0    19.0\n",
       "2       1033.0    10.0\n",
       "3       1045.0    10.0\n",
       "4       1049.0    10.0"
      ]
     },
     "execution_count": 4,
     "metadata": {},
     "output_type": "execute_result"
    }
   ],
   "source": [
    "county_code_total_suicides.head()"
   ]
  },
  {
   "cell_type": "markdown",
   "metadata": {},
   "source": [
    "#### Read in unemployment data"
   ]
  },
  {
   "cell_type": "code",
   "execution_count": 5,
   "metadata": {},
   "outputs": [],
   "source": [
    "unemployment = pd.read_excel('laucnty18.xlsx', header=2)"
   ]
  },
  {
   "cell_type": "markdown",
   "metadata": {},
   "source": [
    "#### Make column names mostly useful"
   ]
  },
  {
   "cell_type": "code",
   "execution_count": 6,
   "metadata": {},
   "outputs": [],
   "source": [
    "unemployment.rename(columns={'Unnamed: 0':'weird_code', 'State': 'state_code', 'County': 'county_code_segment', 'Unnamed: 3': 'county_and_state', 'Unnamed: 4': 'year', 'Unnamed: 5': '?', 'Unnamed: 6': 'total_labor_force', 'Unnamed: 7': 'employed', 'Unnamed: 8': 'unemployed', 'Unemploy-': 'unemployment_rate' }, inplace=True)"
   ]
  },
  {
   "cell_type": "code",
   "execution_count": 7,
   "metadata": {},
   "outputs": [],
   "source": [
    "unemployment.drop([0,1,2], inplace=True)"
   ]
  },
  {
   "cell_type": "markdown",
   "metadata": {},
   "source": [
    "#### Create 'County Code' (formated to match unemployment data) from current state and county code"
   ]
  },
  {
   "cell_type": "code",
   "execution_count": 8,
   "metadata": {
    "scrolled": true
   },
   "outputs": [],
   "source": [
    "unemployment['County Code'] = unemployment['state_code'] + unemployment['county_code_segment']"
   ]
  },
  {
   "cell_type": "code",
   "execution_count": 9,
   "metadata": {},
   "outputs": [],
   "source": [
    "unemployment['County Code'] = pd.to_numeric(unemployment['County Code'])"
   ]
  },
  {
   "cell_type": "markdown",
   "metadata": {},
   "source": [
    "#### Isolate unemployment rate without county code"
   ]
  },
  {
   "cell_type": "code",
   "execution_count": 10,
   "metadata": {},
   "outputs": [],
   "source": [
    "unemployment_rate_county_code = unemployment[['County Code', 'unemployment_rate']]"
   ]
  },
  {
   "cell_type": "markdown",
   "metadata": {},
   "source": [
    "#### Read in income and education data"
   ]
  },
  {
   "cell_type": "code",
   "execution_count": 11,
   "metadata": {},
   "outputs": [],
   "source": [
    "earnings_education = pd.read_csv('analytic_data2018_0.csv', low_memory=False)"
   ]
  },
  {
   "cell_type": "code",
   "execution_count": 12,
   "metadata": {},
   "outputs": [
    {
     "name": "stdout",
     "output_type": "stream",
     "text": [
      "<class 'pandas.core.frame.DataFrame'>\n",
      "RangeIndex: 3195 entries, 0 to 3194\n",
      "Columns: 508 entries, State FIPS Code to Population growth raw value\n",
      "dtypes: object(508)\n",
      "memory usage: 12.4+ MB\n"
     ]
    }
   ],
   "source": [
    "earnings_education.info()"
   ]
  },
  {
   "cell_type": "markdown",
   "metadata": {},
   "source": [
    "#### fuck that's a lot of columns..."
   ]
  },
  {
   "cell_type": "code",
   "execution_count": 13,
   "metadata": {},
   "outputs": [
    {
     "data": {
      "text/html": [
       "<div>\n",
       "<style scoped>\n",
       "    .dataframe tbody tr th:only-of-type {\n",
       "        vertical-align: middle;\n",
       "    }\n",
       "\n",
       "    .dataframe tbody tr th {\n",
       "        vertical-align: top;\n",
       "    }\n",
       "\n",
       "    .dataframe thead th {\n",
       "        text-align: right;\n",
       "    }\n",
       "</style>\n",
       "<table border=\"1\" class=\"dataframe\">\n",
       "  <thead>\n",
       "    <tr style=\"text-align: right;\">\n",
       "      <th></th>\n",
       "      <th>State FIPS Code</th>\n",
       "      <th>County FIPS Code</th>\n",
       "      <th>5-digit FIPS Code</th>\n",
       "      <th>State Abbreviation</th>\n",
       "      <th>Name</th>\n",
       "      <th>Release Year</th>\n",
       "      <th>County Ranked (Yes=1/No=0)</th>\n",
       "      <th>Premature death raw value</th>\n",
       "      <th>Premature death numerator</th>\n",
       "      <th>Premature death denominator</th>\n",
       "      <th>...</th>\n",
       "      <th>Male population 18-44 raw value</th>\n",
       "      <th>Male population 45-64 raw value</th>\n",
       "      <th>Male population 65+ raw value</th>\n",
       "      <th>Total male population raw value</th>\n",
       "      <th>Female population 0-17 raw value</th>\n",
       "      <th>Female population 18-44 raw value</th>\n",
       "      <th>Female population 45-64 raw value</th>\n",
       "      <th>Female population 65+ raw value</th>\n",
       "      <th>Total female population raw value</th>\n",
       "      <th>Population growth raw value</th>\n",
       "    </tr>\n",
       "  </thead>\n",
       "  <tbody>\n",
       "    <tr>\n",
       "      <td>0</td>\n",
       "      <td>statecode</td>\n",
       "      <td>countycode</td>\n",
       "      <td>fipscode</td>\n",
       "      <td>state</td>\n",
       "      <td>county</td>\n",
       "      <td>year</td>\n",
       "      <td>county_ranked</td>\n",
       "      <td>v001_rawvalue</td>\n",
       "      <td>v001_numerator</td>\n",
       "      <td>v001_denominator</td>\n",
       "      <td>...</td>\n",
       "      <td>v013_rawvalue</td>\n",
       "      <td>v016_rawvalue</td>\n",
       "      <td>v017_rawvalue</td>\n",
       "      <td>v025_rawvalue</td>\n",
       "      <td>v026_rawvalue</td>\n",
       "      <td>v027_rawvalue</td>\n",
       "      <td>v031_rawvalue</td>\n",
       "      <td>v032_rawvalue</td>\n",
       "      <td>v035_rawvalue</td>\n",
       "      <td>v097_rawvalue</td>\n",
       "    </tr>\n",
       "    <tr>\n",
       "      <td>1</td>\n",
       "      <td>00</td>\n",
       "      <td>000</td>\n",
       "      <td>00000</td>\n",
       "      <td>US</td>\n",
       "      <td>United States</td>\n",
       "      <td>2018</td>\n",
       "      <td>NaN</td>\n",
       "      <td>6658.1139453</td>\n",
       "      <td>3537400</td>\n",
       "      <td>896862151</td>\n",
       "      <td>...</td>\n",
       "      <td>NaN</td>\n",
       "      <td>NaN</td>\n",
       "      <td>NaN</td>\n",
       "      <td>NaN</td>\n",
       "      <td>NaN</td>\n",
       "      <td>NaN</td>\n",
       "      <td>NaN</td>\n",
       "      <td>NaN</td>\n",
       "      <td>NaN</td>\n",
       "      <td>NaN</td>\n",
       "    </tr>\n",
       "    <tr>\n",
       "      <td>2</td>\n",
       "      <td>01</td>\n",
       "      <td>000</td>\n",
       "      <td>01000</td>\n",
       "      <td>AL</td>\n",
       "      <td>Alabama</td>\n",
       "      <td>2018</td>\n",
       "      <td>NaN</td>\n",
       "      <td>9642.4120328</td>\n",
       "      <td>76851</td>\n",
       "      <td>13617223</td>\n",
       "      <td>...</td>\n",
       "      <td>NaN</td>\n",
       "      <td>NaN</td>\n",
       "      <td>NaN</td>\n",
       "      <td>NaN</td>\n",
       "      <td>NaN</td>\n",
       "      <td>NaN</td>\n",
       "      <td>NaN</td>\n",
       "      <td>NaN</td>\n",
       "      <td>NaN</td>\n",
       "      <td>NaN</td>\n",
       "    </tr>\n",
       "    <tr>\n",
       "      <td>3</td>\n",
       "      <td>01</td>\n",
       "      <td>001</td>\n",
       "      <td>01001</td>\n",
       "      <td>AL</td>\n",
       "      <td>Autauga County</td>\n",
       "      <td>2018</td>\n",
       "      <td>1</td>\n",
       "      <td>9409.2947663</td>\n",
       "      <td>851</td>\n",
       "      <td>156697</td>\n",
       "      <td>...</td>\n",
       "      <td>NaN</td>\n",
       "      <td>NaN</td>\n",
       "      <td>NaN</td>\n",
       "      <td>NaN</td>\n",
       "      <td>NaN</td>\n",
       "      <td>NaN</td>\n",
       "      <td>NaN</td>\n",
       "      <td>NaN</td>\n",
       "      <td>NaN</td>\n",
       "      <td>NaN</td>\n",
       "    </tr>\n",
       "    <tr>\n",
       "      <td>4</td>\n",
       "      <td>01</td>\n",
       "      <td>003</td>\n",
       "      <td>01003</td>\n",
       "      <td>AL</td>\n",
       "      <td>Baldwin County</td>\n",
       "      <td>2018</td>\n",
       "      <td>1</td>\n",
       "      <td>7467.5966638</td>\n",
       "      <td>2740</td>\n",
       "      <td>554671</td>\n",
       "      <td>...</td>\n",
       "      <td>NaN</td>\n",
       "      <td>NaN</td>\n",
       "      <td>NaN</td>\n",
       "      <td>NaN</td>\n",
       "      <td>NaN</td>\n",
       "      <td>NaN</td>\n",
       "      <td>NaN</td>\n",
       "      <td>NaN</td>\n",
       "      <td>NaN</td>\n",
       "      <td>NaN</td>\n",
       "    </tr>\n",
       "  </tbody>\n",
       "</table>\n",
       "<p>5 rows × 508 columns</p>\n",
       "</div>"
      ],
      "text/plain": [
       "  State FIPS Code County FIPS Code 5-digit FIPS Code State Abbreviation  \\\n",
       "0       statecode       countycode          fipscode              state   \n",
       "1              00              000             00000                 US   \n",
       "2              01              000             01000                 AL   \n",
       "3              01              001             01001                 AL   \n",
       "4              01              003             01003                 AL   \n",
       "\n",
       "             Name Release Year County Ranked (Yes=1/No=0)  \\\n",
       "0          county         year              county_ranked   \n",
       "1   United States         2018                        NaN   \n",
       "2         Alabama         2018                        NaN   \n",
       "3  Autauga County         2018                          1   \n",
       "4  Baldwin County         2018                          1   \n",
       "\n",
       "  Premature death raw value Premature death numerator  \\\n",
       "0             v001_rawvalue            v001_numerator   \n",
       "1              6658.1139453                   3537400   \n",
       "2              9642.4120328                     76851   \n",
       "3              9409.2947663                       851   \n",
       "4              7467.5966638                      2740   \n",
       "\n",
       "  Premature death denominator  ... Male population 18-44 raw value  \\\n",
       "0            v001_denominator  ...                   v013_rawvalue   \n",
       "1                   896862151  ...                             NaN   \n",
       "2                    13617223  ...                             NaN   \n",
       "3                      156697  ...                             NaN   \n",
       "4                      554671  ...                             NaN   \n",
       "\n",
       "  Male population 45-64 raw value Male population 65+ raw value  \\\n",
       "0                   v016_rawvalue                 v017_rawvalue   \n",
       "1                             NaN                           NaN   \n",
       "2                             NaN                           NaN   \n",
       "3                             NaN                           NaN   \n",
       "4                             NaN                           NaN   \n",
       "\n",
       "  Total male population raw value Female population 0-17 raw value  \\\n",
       "0                   v025_rawvalue                    v026_rawvalue   \n",
       "1                             NaN                              NaN   \n",
       "2                             NaN                              NaN   \n",
       "3                             NaN                              NaN   \n",
       "4                             NaN                              NaN   \n",
       "\n",
       "  Female population 18-44 raw value Female population 45-64 raw value  \\\n",
       "0                     v027_rawvalue                     v031_rawvalue   \n",
       "1                               NaN                               NaN   \n",
       "2                               NaN                               NaN   \n",
       "3                               NaN                               NaN   \n",
       "4                               NaN                               NaN   \n",
       "\n",
       "  Female population 65+ raw value Total female population raw value  \\\n",
       "0                   v032_rawvalue                     v035_rawvalue   \n",
       "1                             NaN                               NaN   \n",
       "2                             NaN                               NaN   \n",
       "3                             NaN                               NaN   \n",
       "4                             NaN                               NaN   \n",
       "\n",
       "  Population growth raw value  \n",
       "0               v097_rawvalue  \n",
       "1                         NaN  \n",
       "2                         NaN  \n",
       "3                         NaN  \n",
       "4                         NaN  \n",
       "\n",
       "[5 rows x 508 columns]"
      ]
     },
     "execution_count": 13,
     "metadata": {},
     "output_type": "execute_result"
    }
   ],
   "source": [
    "earnings_education.head()"
   ]
  },
  {
   "cell_type": "code",
   "execution_count": 14,
   "metadata": {},
   "outputs": [],
   "source": [
    "earnings_education.drop(axis=0, index=[0,1], inplace=True)"
   ]
  },
  {
   "cell_type": "code",
   "execution_count": 17,
   "metadata": {},
   "outputs": [],
   "source": [
    "earnings_education['County Code'] = pd.to_numeric(earnings_education['5-digit FIPS Code'])"
   ]
  },
  {
   "cell_type": "markdown",
   "metadata": {},
   "source": [
    "### Merge all dataframes"
   ]
  },
  {
   "cell_type": "code",
   "execution_count": 18,
   "metadata": {},
   "outputs": [],
   "source": [
    "dfs = [unemployment_rate_county_code, earnings_education, county_code_total_suicides]"
   ]
  },
  {
   "cell_type": "code",
   "execution_count": 19,
   "metadata": {},
   "outputs": [],
   "source": [
    "merged = reduce(lambda left,right: pd.merge(left,right,on='County Code'), dfs)\n"
   ]
  },
  {
   "cell_type": "code",
   "execution_count": 20,
   "metadata": {},
   "outputs": [],
   "source": [
    "def clear_low_columns(df):\n",
    "    for col in df.columns:\n",
    "        if df[col].isna().sum() >= 100:\n",
    "            df.drop(columns=col, inplace=True)"
   ]
  },
  {
   "cell_type": "code",
   "execution_count": 21,
   "metadata": {},
   "outputs": [],
   "source": [
    "clear_low_columns(merged)"
   ]
  },
  {
   "cell_type": "code",
   "execution_count": 22,
   "metadata": {},
   "outputs": [],
   "source": [
    "def replace_na_with_col_median(df):\n",
    "    for col in df.columns:\n",
    "        if df[col].isna().any():\n",
    "            df.fillna(merged[col].median(), inplace=True)"
   ]
  },
  {
   "cell_type": "code",
   "execution_count": 23,
   "metadata": {},
   "outputs": [],
   "source": [
    "replace_na_with_col_median(merged)"
   ]
  },
  {
   "cell_type": "code",
   "execution_count": 26,
   "metadata": {},
   "outputs": [
    {
     "data": {
      "text/plain": [
       "0"
      ]
     },
     "execution_count": 26,
     "metadata": {},
     "output_type": "execute_result"
    }
   ],
   "source": [
    "merged.isna().any().sum()"
   ]
  },
  {
   "cell_type": "code",
   "execution_count": 27,
   "metadata": {},
   "outputs": [],
   "source": [
    "merged['Population raw value'] = pd.to_numeric(merged['Population raw value'])"
   ]
  },
  {
   "cell_type": "markdown",
   "metadata": {},
   "source": [
    "### Create target variable (suicides in relation to population)"
   ]
  },
  {
   "cell_type": "code",
   "execution_count": 28,
   "metadata": {},
   "outputs": [],
   "source": [
    "merged['suicides_per_100k_pop'] = merged['Deaths'] / (merged['Population raw value']/100000)"
   ]
  },
  {
   "cell_type": "code",
   "execution_count": 29,
   "metadata": {},
   "outputs": [],
   "source": [
    "non_int_colums = ['State Abbreviation', 'Name']"
   ]
  },
  {
   "cell_type": "code",
   "execution_count": 30,
   "metadata": {},
   "outputs": [],
   "source": [
    "columns = np.array(merged.columns)"
   ]
  },
  {
   "cell_type": "code",
   "execution_count": 31,
   "metadata": {},
   "outputs": [],
   "source": [
    "int_columns = [x for x in columns if x not in non_int_colums]"
   ]
  },
  {
   "cell_type": "code",
   "execution_count": 32,
   "metadata": {},
   "outputs": [],
   "source": [
    "full_df = merged[int_columns].apply(pd.to_numeric)"
   ]
  },
  {
   "cell_type": "markdown",
   "metadata": {},
   "source": [
    "#### Format columns to work with ols formula"
   ]
  },
  {
   "cell_type": "code",
   "execution_count": 33,
   "metadata": {},
   "outputs": [],
   "source": [
    "full_df.columns = [col.replace(' ', '_').replace('%', 'percent').replace('-', '_').replace('(', \"\").replace(\")\", \"\") for col in full_df.columns]"
   ]
  },
  {
   "cell_type": "markdown",
   "metadata": {},
   "source": [
    "### Feature engineering"
   ]
  },
  {
   "cell_type": "markdown",
   "metadata": {},
   "source": [
    "#### Create categorical variables from % of populations"
   ]
  },
  {
   "cell_type": "code",
   "execution_count": 34,
   "metadata": {},
   "outputs": [],
   "source": [
    "full_df['above_average_hispanic_population'] = np.where(full_df['percent_Hispanic_raw_value'] > full_df['percent_Hispanic_raw_value'].median(), 1, 0)"
   ]
  },
  {
   "cell_type": "code",
   "execution_count": 35,
   "metadata": {},
   "outputs": [],
   "source": [
    "full_df['above_average_black_population'] = np.where(full_df['percent_Non_Hispanic_African_American_raw_value'] > full_df['percent_Non_Hispanic_African_American_raw_value'].median(), 1, 0)"
   ]
  },
  {
   "cell_type": "code",
   "execution_count": 36,
   "metadata": {},
   "outputs": [],
   "source": [
    "full_df['above_average_child_population'] = np.where(full_df['percent_below_18_years_of_age_raw_value'] > full_df['percent_below_18_years_of_age_raw_value'].median(), 1, 0)"
   ]
  },
  {
   "cell_type": "code",
   "execution_count": 37,
   "metadata": {},
   "outputs": [],
   "source": [
    "full_df['above_average_elderly_population'] = np.where(full_df['percent_65_and_older_raw_value'] > full_df['percent_65_and_older_raw_value'].median(), 1, 0)"
   ]
  },
  {
   "cell_type": "code",
   "execution_count": 38,
   "metadata": {},
   "outputs": [],
   "source": [
    "full_df['above_average_native_population'] = np.where(full_df['percent_American_Indian_and_Alaskan_Native_raw_value'] > full_df['percent_American_Indian_and_Alaskan_Native_raw_value'].median(), 1, 0)"
   ]
  },
  {
   "cell_type": "code",
   "execution_count": 39,
   "metadata": {},
   "outputs": [],
   "source": [
    "full_df['above_average_native_HI_population'] = np.where(full_df['percent_Native_Hawaiian/Other_Pacific_Islander_raw_value'] > full_df['percent_Native_Hawaiian/Other_Pacific_Islander_raw_value'].median(), 1, 0)"
   ]
  },
  {
   "cell_type": "code",
   "execution_count": 40,
   "metadata": {},
   "outputs": [],
   "source": [
    "full_df['above_average_asian_population'] = np.where(full_df['percent_Asian_raw_value'] > full_df['percent_Asian_raw_value'].median(), 1, 0)"
   ]
  },
  {
   "cell_type": "code",
   "execution_count": 41,
   "metadata": {},
   "outputs": [],
   "source": [
    "full_df['above_average_white_population'] = np.where(full_df['percent_Non_Hispanic_white_raw_value'] > full_df['percent_Non_Hispanic_white_raw_value'].median(), 1, 0)"
   ]
  },
  {
   "cell_type": "code",
   "execution_count": 42,
   "metadata": {},
   "outputs": [],
   "source": [
    "full_df['above_average_female_population'] = np.where(full_df['percent_Females_raw_value'] > full_df['percent_Females_raw_value'].median(), 1, 0)"
   ]
  },
  {
   "cell_type": "code",
   "execution_count": 43,
   "metadata": {},
   "outputs": [],
   "source": [
    "full_df['above_average_rural_population'] = np.where(full_df['percent_Rural_raw_value'] > full_df['percent_Rural_raw_value'].median(), 1, 0)"
   ]
  },
  {
   "cell_type": "code",
   "execution_count": 44,
   "metadata": {},
   "outputs": [],
   "source": [
    "target = full_df['suicides_per_100k_pop']"
   ]
  },
  {
   "cell_type": "code",
   "execution_count": 47,
   "metadata": {},
   "outputs": [],
   "source": [
    "features = full_df[['unemployment_rate', 'above_average_rural_population', 'above_average_female_population','above_average_white_population','above_average_black_population','above_average_hispanic_population','above_average_asian_population','above_average_native_population','above_average_native_HI_population','above_average_elderly_population', 'above_average_child_population', 'Disconnected_youth_raw_value']]"
   ]
  },
  {
   "cell_type": "markdown",
   "metadata": {},
   "source": [
    "### Check correlations with target"
   ]
  },
  {
   "cell_type": "code",
   "execution_count": 48,
   "metadata": {},
   "outputs": [
    {
     "data": {
      "text/html": [
       "<div>\n",
       "<style scoped>\n",
       "    .dataframe tbody tr th:only-of-type {\n",
       "        vertical-align: middle;\n",
       "    }\n",
       "\n",
       "    .dataframe tbody tr th {\n",
       "        vertical-align: top;\n",
       "    }\n",
       "\n",
       "    .dataframe thead th {\n",
       "        text-align: right;\n",
       "    }\n",
       "</style>\n",
       "<table border=\"1\" class=\"dataframe\">\n",
       "  <thead>\n",
       "    <tr style=\"text-align: right;\">\n",
       "      <th></th>\n",
       "      <th>index</th>\n",
       "      <th>0</th>\n",
       "    </tr>\n",
       "  </thead>\n",
       "  <tbody>\n",
       "    <tr>\n",
       "      <td>0</td>\n",
       "      <td>unemployment_rate</td>\n",
       "      <td>0.121931</td>\n",
       "    </tr>\n",
       "    <tr>\n",
       "      <td>1</td>\n",
       "      <td>above_average_rural_population</td>\n",
       "      <td>0.255224</td>\n",
       "    </tr>\n",
       "    <tr>\n",
       "      <td>2</td>\n",
       "      <td>above_average_female_population</td>\n",
       "      <td>-0.094560</td>\n",
       "    </tr>\n",
       "    <tr>\n",
       "      <td>3</td>\n",
       "      <td>above_average_white_population</td>\n",
       "      <td>0.126033</td>\n",
       "    </tr>\n",
       "    <tr>\n",
       "      <td>4</td>\n",
       "      <td>above_average_black_population</td>\n",
       "      <td>-0.160615</td>\n",
       "    </tr>\n",
       "    <tr>\n",
       "      <td>5</td>\n",
       "      <td>above_average_hispanic_population</td>\n",
       "      <td>0.009953</td>\n",
       "    </tr>\n",
       "    <tr>\n",
       "      <td>6</td>\n",
       "      <td>above_average_asian_population</td>\n",
       "      <td>-0.346510</td>\n",
       "    </tr>\n",
       "    <tr>\n",
       "      <td>7</td>\n",
       "      <td>above_average_native_population</td>\n",
       "      <td>0.128209</td>\n",
       "    </tr>\n",
       "    <tr>\n",
       "      <td>8</td>\n",
       "      <td>above_average_native_HI_population</td>\n",
       "      <td>0.094373</td>\n",
       "    </tr>\n",
       "    <tr>\n",
       "      <td>9</td>\n",
       "      <td>above_average_elderly_population</td>\n",
       "      <td>0.206541</td>\n",
       "    </tr>\n",
       "    <tr>\n",
       "      <td>10</td>\n",
       "      <td>above_average_child_population</td>\n",
       "      <td>-0.037123</td>\n",
       "    </tr>\n",
       "    <tr>\n",
       "      <td>11</td>\n",
       "      <td>Disconnected_youth_raw_value</td>\n",
       "      <td>0.123850</td>\n",
       "    </tr>\n",
       "  </tbody>\n",
       "</table>\n",
       "</div>"
      ],
      "text/plain": [
       "                                 index         0\n",
       "0                    unemployment_rate  0.121931\n",
       "1       above_average_rural_population  0.255224\n",
       "2      above_average_female_population -0.094560\n",
       "3       above_average_white_population  0.126033\n",
       "4       above_average_black_population -0.160615\n",
       "5    above_average_hispanic_population  0.009953\n",
       "6       above_average_asian_population -0.346510\n",
       "7      above_average_native_population  0.128209\n",
       "8   above_average_native_HI_population  0.094373\n",
       "9     above_average_elderly_population  0.206541\n",
       "10      above_average_child_population -0.037123\n",
       "11        Disconnected_youth_raw_value  0.123850"
      ]
     },
     "execution_count": 48,
     "metadata": {},
     "output_type": "execute_result"
    }
   ],
   "source": [
    "features.corrwith(target).reset_index()"
   ]
  },
  {
   "cell_type": "markdown",
   "metadata": {},
   "source": [
    "#### Get data for each subpopulation"
   ]
  },
  {
   "cell_type": "code",
   "execution_count": 49,
   "metadata": {},
   "outputs": [],
   "source": [
    "asian_data = full_df.loc[full_df['above_average_asian_population'] == 1]\n",
    "hispanic_data = full_df.loc[full_df['above_average_hispanic_population'] == 1]\n",
    "black_data = full_df.loc[full_df['above_average_black_population'] == 1]\n",
    "white_data = full_df.loc[full_df['above_average_white_population'] == 1]\n",
    "native_us_data = full_df.loc[full_df['above_average_native_population'] == 1]\n",
    "native_HI_data = full_df.loc[full_df['above_average_native_HI_population'] == 1]"
   ]
  },
  {
   "cell_type": "code",
   "execution_count": null,
   "metadata": {},
   "outputs": [],
   "source": []
  }
 ],
 "metadata": {
  "kernelspec": {
   "display_name": "learn-env",
   "language": "python",
   "name": "learn-env"
  },
  "language_info": {
   "codemirror_mode": {
    "name": "ipython",
    "version": 3
   },
   "file_extension": ".py",
   "mimetype": "text/x-python",
   "name": "python",
   "nbconvert_exporter": "python",
   "pygments_lexer": "ipython3",
   "version": "3.6.9"
  }
 },
 "nbformat": 4,
 "nbformat_minor": 2
}
